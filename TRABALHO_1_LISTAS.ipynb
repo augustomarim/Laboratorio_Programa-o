{
  "nbformat": 4,
  "nbformat_minor": 0,
  "metadata": {
    "colab": {
      "provenance": [],
      "include_colab_link": true
    },
    "kernelspec": {
      "name": "python3",
      "display_name": "Python 3"
    }
  },
  "cells": [
    {
      "cell_type": "markdown",
      "metadata": {
        "id": "view-in-github",
        "colab_type": "text"
      },
      "source": [
        "<a href=\"https://colab.research.google.com/github/augustomarim/Laboratorio_Programa-o/blob/main/TRABALHO_1_LISTAS.ipynb\" target=\"_parent\"><img src=\"https://colab.research.google.com/assets/colab-badge.svg\" alt=\"Open In Colab\"/></a>"
      ]
    },
    {
      "cell_type": "markdown",
      "metadata": {
        "id": "G90zxY79qIXe"
      },
      "source": [
        "\n",
        "<html>\n",
        "  <body>\n",
        "    <header></header>\n",
        "        <CENTER>\n",
        "          <img src=\"https://uvv.br/wp-content/themes/core/dist/images/Logo.png\" alt=\"UVV-LOGO\" style = width=\"100px\"; height=\"100px\">\n",
        "        </CENTER>\n",
        "        <CENTER><b>LABORATÓRIO DE PROGRAMAÇAO</b></CENTER>\n",
        "        <CENTER><b>ESTRUTURA DE DADOS - LISTA</b></CENTER>"
      ]
    },
    {
      "cell_type": "markdown",
      "source": [
        "NOME:"
      ],
      "metadata": {
        "id": "cTWjy-UMSZKR"
      }
    },
    {
      "cell_type": "markdown",
      "source": [
        "MEU LINK COLAB: [Link]()"
      ],
      "metadata": {
        "id": "VGKo5hTSCMcA"
      }
    },
    {
      "cell_type": "markdown",
      "source": [
        "**ATENÇÃO: NÃO USAR AS ESTRUTURAS DE DADOS:**\n",
        "*   Dicionário: dict\n",
        "*   Pandas: DataFrame"
      ],
      "metadata": {
        "id": "yX5Qy2EeASgB"
      }
    },
    {
      "cell_type": "markdown",
      "metadata": {
        "id": "CWZ7nYLvZjR8"
      },
      "source": [
        "# EXERCÍCIO SORTEADO 1:"
      ]
    },
    {
      "cell_type": "code",
      "source": [
        "atleta = []\n",
        "triatlon = []"
      ],
      "metadata": {
        "id": "aphElrP0V9-T"
      },
      "execution_count": null,
      "outputs": []
    },
    {
      "cell_type": "code",
      "source": [
        "def LerNome():\n",
        "  while True:\n",
        "    try:\n",
        "      nome = (input('NOME: '))\n",
        "      if(len(nome) <= 1):\n",
        "        print('ERRO: ESCOLHA DE NOVO')\n",
        "      else:\n",
        "        break\n",
        "    except Exception as ERRO:\n",
        "      print(f'ERRO DE EXCEÇÃO: {ERRO}')\n",
        "  return nome"
      ],
      "metadata": {
        "id": "WKR2OUzbiG3I"
      },
      "execution_count": 2,
      "outputs": []
    },
    {
      "cell_type": "code",
      "source": [
        "def LerPatrocinador():\n",
        "  while True:\n",
        "    try:\n",
        "      patrocinador = (input('PATROCINADOR: '))\n",
        "      if(len(patrocinador) <= 1):\n",
        "        print('ERRO: ESCOLHA DE NOVO')\n",
        "      else:\n",
        "        break\n",
        "    except Exception as ERRO:\n",
        "      print(f'ERRO DE EXCEÇÃO: {ERRO}')\n",
        "  return patrocinador"
      ],
      "metadata": {
        "id": "03kYxBAuxtSw"
      },
      "execution_count": 5,
      "outputs": []
    },
    {
      "cell_type": "code",
      "source": [
        "def LerData():\n",
        "  while True:\n",
        "    try:\n",
        "      data = (input('DATA DE NASCIMENTO (DD/MM/AAAA): '))\n",
        "      dia, mes, ano = map(int, data.split('/'))\n",
        "      if(dia < 1 or dia > 31 or mes < 1 or mes > 12 or ano < 1900):\n",
        "        print('ERRO: ESCOLHA DE NOVO')\n",
        "      else:\n",
        "        break\n",
        "    except Exception as ERRO:\n",
        "      print(f'ERRO DE EXCEÇÃO: {ERRO}')\n",
        "  return data"
      ],
      "metadata": {
        "id": "2YwuRVZJxxH2"
      },
      "execution_count": 3,
      "outputs": []
    },
    {
      "cell_type": "code",
      "source": [
        "def LerNatacao():\n",
        "  while True:\n",
        "    try:\n",
        "      tempoNat = float(input('TEMPO(SEGUNDOS) NATAÇÃO: '))\n",
        "      if(tempoNat < 10):\n",
        "        print('ERRO: ESCOLHA DE NOVO')\n",
        "      else:\n",
        "        break\n",
        "    except Exception as ERRO:\n",
        "      print(f'ERRO DE EXCEÇÃO: {ERRO}')\n",
        "  return tempoNat"
      ],
      "metadata": {
        "id": "mvkJqe5Nx06q"
      },
      "execution_count": 4,
      "outputs": []
    },
    {
      "cell_type": "code",
      "source": [
        "def LerCorrida():\n",
        "  while True:\n",
        "    try:\n",
        "      tempoCor = float(input('TEMPO(SEGUNDOS) CORRIDA: '))\n",
        "      if(tempoCor < 10):\n",
        "        print('ERRO: ESCOLHA DE NOVO')\n",
        "      else:\n",
        "        break\n",
        "    except Exception as ERRO:\n",
        "      print(f'ERRO DE EXCEÇÃO: {ERRO}')\n",
        "  return tempoCor"
      ],
      "metadata": {
        "id": "bztrZm9rx8Nc"
      },
      "execution_count": 6,
      "outputs": []
    },
    {
      "cell_type": "code",
      "source": [
        "def LerCiclismo():\n",
        "  while True:\n",
        "    try:\n",
        "      tempoCic = float(input('TEMPO(SEGUNDOS) CICLISMO: '))\n",
        "      if(tempoCic < 10):\n",
        "        print('ERRO: ESCOLHA DE NOVO')\n",
        "      else:\n",
        "        break\n",
        "    except Exception as ERRO:\n",
        "      print(f'ERRO DE EXCEÇÃO: {ERRO}')\n",
        "  return tempoCic"
      ],
      "metadata": {
        "id": "R50evkFUyEcs"
      },
      "execution_count": 7,
      "outputs": []
    },
    {
      "cell_type": "code",
      "source": [
        "print('MENU')\n",
        "print('OPÇÃO 0: INSERIR ATLETA')\n",
        "print('QUALQUER TECLA: SAIR')\n",
        "while True:\n",
        "  try:\n",
        "    opcao = (input('SUA OPÇÃO: '))\n",
        "    if(opcao != '0'):\n",
        "      print('FIM DO PROGRAMA')\n",
        "      break\n",
        "    else:\n",
        "      print(f'ENTRE COM OS DADOS DO {len(triatlon) + 1}º ATLETA: ')\n",
        "      nome = LerNome()\n",
        "      patrocinador = LerPatrocinador()\n",
        "      data = LerData()\n",
        "      nat = LerNatacao()\n",
        "      cor = LerCorrida()\n",
        "      cic = LerCiclismo()\n",
        "      atleta = [nome, patrocinador, data, nat, cor, cic]\n",
        "      triatlon.append(atleta)\n",
        "      print('ATLETA CADASTRADO COM SUCESSO')\n",
        "      break\n",
        "  except Exception as ERRO:\n",
        "    print(f'ERRO DE EXCEÇÃO: {ERRO}')"
      ],
      "metadata": {
        "id": "WkhdHhafyGzU",
        "colab": {
          "base_uri": "https://localhost:8080/"
        },
        "outputId": "65422723-9f2d-4b0a-deb6-a8b4185ad3ff"
      },
      "execution_count": 77,
      "outputs": [
        {
          "output_type": "stream",
          "name": "stdout",
          "text": [
            "MENU\n",
            "OPÇÃO 0: INSERIR ATLETA\n",
            "QUALQUER TECLA: SAIR\n",
            "SUA OPÇÃO: 0\n",
            "ENTRE COM OS DADOS DO 5º ATLETA: \n",
            "NOME: Augusto Luiz Maravilhoso\n",
            "PATROCINADOR: Chanel\n",
            "DATA DE NASCIMENTO (DD/MM/AAAA): 03\n",
            "ERRO DE EXCEÇÃO: not enough values to unpack (expected 3, got 1)\n",
            "DATA DE NASCIMENTO (DD/MM/AAAA): 03/03/2006\n",
            "TEMPO(SEGUNDOS) NATAÇÃO: 10\n",
            "TEMPO(SEGUNDOS) CORRIDA: 10\n",
            "TEMPO(SEGUNDOS) CICLISMO: 10\n",
            "ATLETA CADASTRADO COM SUCESSO\n"
          ]
        }
      ]
    },
    {
      "cell_type": "code",
      "source": [
        "tempo_Nat = min([valor[3] for valor in triatlon])\n",
        "tempo_Cor = min([valor[4] for valor in triatlon])\n",
        "tempo_Cic = min([valor[5] for valor in triatlon])\n",
        "print('MELHORES TEMPOS DE NATAÇÃO:')\n",
        "for valor in triatlon:\n",
        "  if(valor[3] == tempo_Nat):\n",
        "    print(f\"Nome: {valor[0]}\")\n",
        "    print(f\"Patrocinador: {valor[1]}\")\n",
        "    print(f\"Nascimento: {valor[2]}\")\n",
        "    print(f\"Tempo: {valor[3]}\")\n",
        "print('MELHORES TEMPOS DE CORRIDA:')\n",
        "for valor in triatlon:\n",
        "  if(valor[4] == tempo_Cor):\n",
        "    print(f\"Nome: {valor[0]}\")\n",
        "    print(f\"Patrocinador: {valor[1]}\")\n",
        "    print(f\"Nascimento: {valor[2]}\")\n",
        "    print(f\"Tempo: {valor[4]}\")\n",
        "print('MELHORES TEMPOS DE CICLISMO:')\n",
        "for valor in triatlon:\n",
        "  if(valor[5] == tempo_Cic):\n",
        "    print(f\"Nome: {valor[0]}\")\n",
        "    print(f\"Patrocinador: {valor[1]}\")\n",
        "    print(f\"Nascimento: {valor[2]}\")\n",
        "    print(f\"Tempo: {valor[5]}\")"
      ],
      "metadata": {
        "colab": {
          "base_uri": "https://localhost:8080/"
        },
        "id": "rieFprMV2ahf",
        "outputId": "aeff32db-f180-4aef-c238-52d34409a761"
      },
      "execution_count": 72,
      "outputs": [
        {
          "output_type": "stream",
          "name": "stdout",
          "text": [
            "MELHORES TEMPOS DE NATAÇÃO:\n",
            "Nome: Ana Clara Chatonilda\n",
            "Patrocinador: Versace\n",
            "Nascimento: 26/08/2004\n",
            "Tempo: 21.05\n",
            "MELHORES TEMPOS DE CORRIDA:\n",
            "Nome: Thamilly Silva da Chatisse\n",
            "Patrocinador: Miu Miu\n",
            "Nascimento: 16/05/2005\n",
            "Tempo: 40.0\n",
            "Nome: Maria Luiza Garcia Chatonilda\n",
            "Patrocinador: Victroria Secrets\n",
            "Nascimento: 05/08/2011\n",
            "Tempo: 40.0\n",
            "MELHORES TEMPOS DE CICLISMO:\n",
            "Nome: Geilson Lucas Chatonildo da Silva\n",
            "Patrocinador: Balenciaga\n",
            "Nascimento: 24/04/2000\n",
            "Tempo: 22.0\n"
          ]
        }
      ]
    },
    {
      "cell_type": "code",
      "source": [
        "import math\n",
        "melhorTempo = math.inf\n",
        "for valor in triatlon:\n",
        "  tempoTotal = valor[3] + valor[4] + valor[5]\n",
        "  if(tempoTotal < melhorTempo):\n",
        "    melhorTempo = tempoTotal\n",
        "for valor in triatlon:\n",
        "  if(valor[3] + valor[4] + valor[5] == melhorTempo):\n",
        "    print('MELHOR ATLETA:')\n",
        "    print(f\"Nome: {valor[0]}\")\n",
        "    print(f\"Patrocinador: {valor[1]}\")\n",
        "    print(f\"Nascimento: {valor[2]}\")\n",
        "    print(f\"Tempo: {melhorTempo}\")"
      ],
      "metadata": {
        "colab": {
          "base_uri": "https://localhost:8080/"
        },
        "id": "DV3EfvK1Bf8R",
        "outputId": "cd033e7f-076c-4cd5-9b14-c520ed527ef1"
      },
      "execution_count": 83,
      "outputs": [
        {
          "output_type": "stream",
          "name": "stdout",
          "text": [
            "MELHOR ATLETA:\n",
            "Nome: Augusto Luiz Maravilhoso\n",
            "Patrocinador: Chanel\n",
            "Nascimento: 03/03/2006\n",
            "Tempo: 30.0\n"
          ]
        }
      ]
    },
    {
      "cell_type": "code",
      "source": [
        "soma = 0\n",
        "qtd = 0\n",
        "qtdAbaixo = 0\n",
        "for valor in triatlon:\n",
        "  soma += valor[3] + valor[4] + valor[5]\n",
        "  qtd += 3\n",
        "media = soma / qtd\n",
        "tempoTotal = valor[3] + valor[4] + valor[5]\n",
        "print('ATLETAS ABAIXO DA MEDIA:')\n",
        "for valor in triatlon:\n",
        "  if(tempoTotal < media):\n",
        "    print(f\"Nome: {valor[0]}\")\n",
        "    print(f\"Patrocinador: {valor[1]}\")\n",
        "    print(f\"Nascimento: {valor[2]}\")\n",
        "    print(f\"Tempo: {tempoTotal}\")\n",
        "    qtdAbaixo += 1\n",
        "if(qtdAbaixo == 0):\n",
        "  print('NENHUM ATLETA ESTÁ ABAIXO DA MEDIA')"
      ],
      "metadata": {
        "colab": {
          "base_uri": "https://localhost:8080/"
        },
        "id": "H8_RqRoLGo7Z",
        "outputId": "39bcd5fc-0609-4f14-a4eb-f0407cd3a2bc"
      },
      "execution_count": 87,
      "outputs": [
        {
          "output_type": "stream",
          "name": "stdout",
          "text": [
            "ATLETAS ABAIXO DA MEDIA:\n",
            "NENHUM ATLETA ESTÁ ABAIXO DA MEDIA\n"
          ]
        }
      ]
    },
    {
      "cell_type": "code",
      "source": [
        "# TESTE DA LISTA PARA MEMORIZAÇÃO:\n",
        "triatlon = [['Ana Clara Chatonilda', 'Versace', '26/08/2004', 21.05, 100.0, 50.0], ['Geilson Lucas Chatonildo da Silva', 'Balenciaga', '24/04/2000', 100.0, 75.0, 22.0], ['Thamilly Silva da Chatisse', 'Miu Miu', '16/05/2005', 30.0, 40.0, 50.0], ['Augusto Luiz Maravilhoso', 'Chanel', '03/03/2006', 10.0, 10.0, 10.0],['Maria Luiza Garcia Chatonilda', 'Victroria Secrets', '05/08/2011', 30.0, 40.0, 25.0]]"
      ],
      "metadata": {
        "id": "vTubqhyiyPGm"
      },
      "execution_count": 81,
      "outputs": []
    },
    {
      "cell_type": "markdown",
      "metadata": {
        "id": "stTvYgS0Z1_e"
      },
      "source": [
        "# EXERCÍCIO SORTEADO 2:"
      ]
    },
    {
      "cell_type": "code",
      "metadata": {
        "id": "I0jBku9KZ0sk"
      },
      "source": [],
      "execution_count": null,
      "outputs": []
    },
    {
      "cell_type": "code",
      "source": [],
      "metadata": {
        "id": "9CV5RwfviHqY"
      },
      "execution_count": null,
      "outputs": []
    }
  ]
}
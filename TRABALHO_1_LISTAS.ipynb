{
  "nbformat": 4,
  "nbformat_minor": 0,
  "metadata": {
    "colab": {
      "provenance": [],
      "include_colab_link": true
    },
    "kernelspec": {
      "name": "python3",
      "display_name": "Python 3"
    }
  },
  "cells": [
    {
      "cell_type": "markdown",
      "metadata": {
        "id": "view-in-github",
        "colab_type": "text"
      },
      "source": [
        "<a href=\"https://colab.research.google.com/github/augustomarim/Laboratorio_Programa-o/blob/main/TRABALHO_1_LISTAS.ipynb\" target=\"_parent\"><img src=\"https://colab.research.google.com/assets/colab-badge.svg\" alt=\"Open In Colab\"/></a>"
      ]
    },
    {
      "cell_type": "markdown",
      "metadata": {
        "id": "G90zxY79qIXe"
      },
      "source": [
        "\n",
        "<html>\n",
        "  <body>\n",
        "    <header></header>\n",
        "        <CENTER>\n",
        "          <img src=\"https://uvv.br/wp-content/themes/core/dist/images/Logo.png\" alt=\"UVV-LOGO\" style = width=\"100px\"; height=\"100px\">\n",
        "        </CENTER>\n",
        "        <CENTER><b>LABORATÓRIO DE PROGRAMAÇAO</b></CENTER>\n",
        "        <CENTER><b>ESTRUTURA DE DADOS - LISTA</b></CENTER>"
      ]
    },
    {
      "cell_type": "markdown",
      "source": [
        "NOME:"
      ],
      "metadata": {
        "id": "cTWjy-UMSZKR"
      }
    },
    {
      "cell_type": "markdown",
      "source": [
        "MEU LINK COLAB: [Link]()"
      ],
      "metadata": {
        "id": "VGKo5hTSCMcA"
      }
    },
    {
      "cell_type": "markdown",
      "source": [
        "**ATENÇÃO: NÃO USAR AS ESTRUTURAS DE DADOS:**\n",
        "*   Dicionário: dict\n",
        "*   Pandas: DataFrame"
      ],
      "metadata": {
        "id": "yX5Qy2EeASgB"
      }
    },
    {
      "cell_type": "markdown",
      "metadata": {
        "id": "CWZ7nYLvZjR8"
      },
      "source": [
        "# EXERCÍCIO SORTEADO 1:"
      ]
    },
    {
      "cell_type": "code",
      "source": [
        "atleta = []\n",
        "triatlon = []"
      ],
      "metadata": {
        "id": "aphElrP0V9-T"
      },
      "execution_count": 16,
      "outputs": []
    },
    {
      "cell_type": "code",
      "source": [
        "def LerNome():\n",
        "  while True:\n",
        "    try:\n",
        "      nome = (input('NOME: '))\n",
        "      if(len(nome) <= 1):\n",
        "        print('ERRO: ESCOLHA DE NOVO')\n",
        "      else:\n",
        "        break\n",
        "    except Exception as ERRO:\n",
        "      print(f'ERRO DE EXCEÇÃO: {ERRO}')\n",
        "  return nome"
      ],
      "metadata": {
        "id": "WKR2OUzbiG3I"
      },
      "execution_count": 22,
      "outputs": []
    },
    {
      "cell_type": "code",
      "source": [
        "def LerPatrocinador():\n",
        "  while True:\n",
        "    try:\n",
        "      patrocinador = (input('PATROCINADOR: '))\n",
        "      if(len(patrocinador) <= 1):\n",
        "        print('ERRO: ESCOLHA DE NOVO')\n",
        "      else:\n",
        "        break\n",
        "    except Exception as ERRO:\n",
        "      print(f'ERRO DE EXCEÇÃO: {ERRO}')\n",
        "  return patrocinador"
      ],
      "metadata": {
        "id": "4shiRfcttrul"
      },
      "execution_count": 21,
      "outputs": []
    },
    {
      "cell_type": "code",
      "source": [
        "def LerData():\n",
        "  while True:\n",
        "    try:\n",
        "      data = (input('DATA DE NASCIMENTO (DD/MM/AAAA): '))\n",
        "      dia, mes, ano = map(int, data.split('/'))\n",
        "      if(dia < 1 or dia > 31 or mes < 1 or mes > 12 or ano < 1900):\n",
        "        print('ERRO: ESCOLHA DE NOVO')\n",
        "      else:\n",
        "        break\n",
        "    except Exception as ERRO:\n",
        "      print(f'ERRO DE EXCEÇÃO: {ERRO}')\n",
        "  return data"
      ],
      "metadata": {
        "id": "7ljUPkgQu9dJ"
      },
      "execution_count": 20,
      "outputs": []
    },
    {
      "cell_type": "code",
      "source": [
        "def LerNatacao():\n",
        "  while True:\n",
        "    try:\n",
        "      tempoNat = float(input('TEMPO(SEGUNDOS) NATAÇÃO: '))\n",
        "      if(tempoNat < 10):\n",
        "        print('ERRO: ESCOLHA DE NOVO')\n",
        "      else:\n",
        "        break\n",
        "    except Exception as ERRO:\n",
        "      print(f'ERRO DE EXCEÇÃO: {ERRO}')\n",
        "  return tempoNat"
      ],
      "metadata": {
        "id": "Sn2Y8UrOxeRX"
      },
      "execution_count": 19,
      "outputs": []
    },
    {
      "cell_type": "code",
      "source": [
        "def LerCorrida():\n",
        "  while True:\n",
        "    try:\n",
        "      tempoCor = float(input('TEMPO(SEGUNDOS) CORRIDA: '))\n",
        "      if(tempoCor < 10):\n",
        "        print('ERRO: ESCOLHA DE NOVO')\n",
        "      else:\n",
        "        break\n",
        "    except Exception as ERRO:\n",
        "      print(f'ERRO DE EXCEÇÃO: {ERRO}')\n",
        "  return tempoCor"
      ],
      "metadata": {
        "id": "3lwMmsBXyVP9"
      },
      "execution_count": 18,
      "outputs": []
    },
    {
      "cell_type": "code",
      "source": [
        "def LerCiclismo():\n",
        "  while True:\n",
        "    try:\n",
        "      tempoCic = float(input('TEMPO(SEGUNDOS) CICLISMO: '))\n",
        "      if(tempoCic < 10):\n",
        "        print('ERRO: ESCOLHA DE NOVO')\n",
        "      else:\n",
        "        break\n",
        "    except Exception as ERRO:\n",
        "      print(f'ERRO DE EXCEÇÃO: {ERRO}')\n",
        "  return tempoCic"
      ],
      "metadata": {
        "id": "2kTskOZHyfsO"
      },
      "execution_count": 17,
      "outputs": []
    },
    {
      "cell_type": "code",
      "source": [
        "# MENU: PROGRAMA PRINCIPAL (MAIN)\n",
        "print('MENU')\n",
        "print('OPÇÃO 0: INSERIR ATLETA')\n",
        "print('QUALQUER TECLA: SAIR')\n",
        "while True:\n",
        "  try:\n",
        "    opcao = (input('SUA OPÇÃO: '))\n",
        "    if(opcao != '0'):\n",
        "      print('FIM DO PROGRAMA')\n",
        "      break\n",
        "    else:\n",
        "      print(f'ENTRE COM OS DADOS DO {len(triatlon) + 1}º ATLETA: ')\n",
        "      nome = LerNome()\n",
        "      patrocinador = LerPatrocinador()\n",
        "      data = LerData()\n",
        "      nat = LerNatacao()\n",
        "      cor = LerCorrida()\n",
        "      cic = LerCiclismo()\n",
        "      atleta = [nome, patrocinador, data, nat, cor, cic]\n",
        "      triatlon.append(atleta)\n",
        "      print('ATLETA CADASTRADO COM SUCESSO')\n",
        "      break\n",
        "  except Exception as ERRO:\n",
        "    print(f'ERRO DE EXCEÇÃO: {ERRO}')"
      ],
      "metadata": {
        "id": "WkhdHhafyGzU",
        "colab": {
          "base_uri": "https://localhost:8080/"
        },
        "outputId": "dbf1937f-af45-468f-e12d-2e7e89be560e"
      },
      "execution_count": 29,
      "outputs": [
        {
          "output_type": "stream",
          "name": "stdout",
          "text": [
            "MENU\n",
            "OPÇÃO 0: INSERIR ATLETA\n",
            "QUALQUER TECLA: SAIR\n",
            "SUA OPÇÃO: 0\n",
            "ENTRE COM OS DADOS DO 3º ATLETA: \n",
            "NOME: Thamilly Silva da Chatisse\n",
            "PATROCINADOR: Miu Miu\n",
            "DATA DE NASCIMENTO (DD/MM/AAAA): 16/05/2005\n",
            "TEMPO(SEGUNDOS) NATAÇÃO: 30\n",
            "TEMPO(SEGUNDOS) CORRIDA: 40\n",
            "TEMPO(SEGUNDOS) CICLISMO: 50\n",
            "ATLETA CADASTRADO COM SUCESSO\n"
          ]
        }
      ]
    },
    {
      "cell_type": "code",
      "source": [
        "# TESTE DA LISTA PARA MEMORIZAÇÃO:\n",
        "triatlon"
      ],
      "metadata": {
        "id": "vTubqhyiyPGm",
        "colab": {
          "base_uri": "https://localhost:8080/"
        },
        "outputId": "7b85ab9d-b3d0-411f-df39-5aad5ca2b835"
      },
      "execution_count": 30,
      "outputs": [
        {
          "output_type": "execute_result",
          "data": {
            "text/plain": [
              "[['Ana Clara Chatonilda', 'Versace', '26/08/2004', 21.05, 100.0, 50.0],\n",
              " ['Geilson Lucas Chatonildo da Silva',\n",
              "  'Balenciaga',\n",
              "  '24/04/2000',\n",
              "  100.0,\n",
              "  75.0,\n",
              "  22.0],\n",
              " ['Thamilly Silva da Chatisse', 'Miu Miu', '16/05/2005', 30.0, 40.0, 50.0]]"
            ]
          },
          "metadata": {},
          "execution_count": 30
        }
      ]
    },
    {
      "cell_type": "markdown",
      "metadata": {
        "id": "stTvYgS0Z1_e"
      },
      "source": [
        "# EXERCÍCIO SORTEADO 2:"
      ]
    },
    {
      "cell_type": "code",
      "metadata": {
        "id": "I0jBku9KZ0sk"
      },
      "source": [],
      "execution_count": null,
      "outputs": []
    },
    {
      "cell_type": "code",
      "source": [],
      "metadata": {
        "id": "9CV5RwfviHqY"
      },
      "execution_count": null,
      "outputs": []
    }
  ]
}